{
  "cells": [
    {
      "cell_type": "markdown",
      "metadata": {
        "id": "cA4BW5jojh8j"
      },
      "source": [
        "##Spaceship Titanic\n",
        "รูปแบบโจทย์ของ Spaceship Titanic เป็น Binary Classification โดยต้องทำนายว่าผู้โดยสารคนไหนที่ถูกส่งไปยังมิติอื่นบ้าง"
      ]
    },
    {
      "cell_type": "markdown",
      "metadata": {
        "id": "vIY8Afz1C0DN"
      },
      "source": [
        "##Import Library and dataset"
      ]
    },
    {
      "cell_type": "markdown",
      "metadata": {
        "id": "yJwBjMXEeXWC"
      },
      "source": [
        "Import Dataset ที่ต้องการใช้"
      ]
    },
    {
      "cell_type": "code",
      "execution_count": null,
      "metadata": {
        "id": "QenyhHIW-LBq"
      },
      "outputs": [],
      "source": [
        "from google.colab import drive\n",
        "drive.mount('/content/drive')\n",
        "!pip install catboost "
      ]
    },
    {
      "cell_type": "markdown",
      "metadata": {
        "id": "46hIjBc4PBHL"
      },
      "source": [
        "Import Library ที่จำเป็น โดยมีดังนี้\n",
        "* numpy : ไลบรารีสำหรับใช้คำนวณ\n",
        "* pandas : ไลบรารีสำหรับใช้จัดการและวิเคราะห์ข้อมูล\n",
        "* matplotlib : ไลบรารีสำหรับใช้แสดงภาพข้อมูลและกราฟ\n",
        "* seaborn : ไลบรารีสำหรับใช้พล็อตกราฟ"
      ]
    },
    {
      "cell_type": "code",
      "execution_count": null,
      "metadata": {
        "colab": {
          "base_uri": "https://localhost:8080/"
        },
        "id": "1S0k_-qzOQji",
        "outputId": "e347563f-29cf-4ceb-c60b-12d13fc36766"
      },
      "outputs": [
        {
          "name": "stdout",
          "output_type": "stream",
          "text": [
            "drive  sample_data\n"
          ]
        }
      ],
      "source": [
        "import numpy as np\n",
        "import pandas as pd\n",
        "import matplotlib.pyplot as plt\n",
        "%matplotlib inline\n",
        "import seaborn as sns\n",
        "sns.set(style='darkgrid', font_scale=2)\n",
        "import warnings\n",
        "warnings.filterwarnings('ignore')\n",
        "import time\n",
        "\n",
        "# Sklearn\n",
        "from sklearn.model_selection import train_test_split\n",
        "from sklearn.metrics import accuracy_score\n",
        "\n",
        "# Models\n",
        "from sklearn.ensemble import GradientBoostingClassifier\n",
        "from sklearn.model_selection import train_test_split\n",
        "from sklearn.preprocessing import StandardScaler,LabelEncoder,OneHotEncoder\n",
        "from sklearn.pipeline import Pipeline\n",
        "from sklearn.metrics import confusion_matrix\n",
        "from sklearn.impute import SimpleImputer\n",
        "from sklearn.compose import ColumnTransformer\n",
        "from sklearn.metrics import accuracy_score\n",
        "from sklearn import set_config\n",
        "from sklearn.linear_model import LinearRegression, LogisticRegression\n",
        "from sklearn.neighbors import KNeighborsClassifier\n",
        "from sklearn.svm import SVC\n",
        "from sklearn.tree import DecisionTreeClassifier\n",
        "from sklearn.ensemble import RandomForestClassifier\n",
        "from xgboost import XGBClassifier\n",
        "from lightgbm import LGBMClassifier\n",
        "from catboost import CatBoostClassifier\n",
        "from sklearn.naive_bayes import GaussianNB\n",
        "\n",
        "\n",
        "!ls"
      ]
    },
    {
      "cell_type": "code",
      "execution_count": null,
      "metadata": {
        "id": "lJTOMix_dN00"
      },
      "outputs": [],
      "source": [
        "%cd /content/drive/MyDrive/DSI311/input\n",
        "\n",
        "\n",
        "train_df = pd.read_csv('../input/spaceship-titanic/train.csv', index_col='PassengerId')\n",
        "test_df = pd.read_csv('../input/spaceship-titanic/test.csv', index_col='PassengerId')\n",
        "\n",
        "print('train dataframe dimensions:', train_df.shape)\n",
        "print('test dataframe dimensions:', test_df.shape)"
      ]
    },
    {
      "cell_type": "markdown",
      "metadata": {
        "id": "XqzsTARseOmV"
      },
      "source": [
        "ตรวจสอบภาพรวมของชุดข้อมูล Train ว่ามีข้อมูลอะไรบ้าง ในที่นี้จะมีข้อมูล 14 คอลัมน์ 8693 แถว ซึ่งคอลัมน์ Transported มีข้อมูลที่ครบถ้วน และอีก 12 คอมลัมน์มีข้อมูลไม่ครบถ้วน"
      ]
    },
    {
      "cell_type": "code",
      "execution_count": null,
      "metadata": {
        "id": "IdcQkByGOlBI"
      },
      "outputs": [],
      "source": [
        "train_df.info()"
      ]
    },
    {
      "cell_type": "markdown",
      "metadata": {
        "id": "gDFk3COGmNy_"
      },
      "source": [
        "รายละเอียดชุดข้อมูล\n",
        "*   PassengerId : รหัสประจำตัวของผู้โดยสารแต่ละคน โดยจะอยู่ในรูปแบบ gggg_pp ซึ่ง gggg เป็นกลุ่มของผู้โดยสาร และ pp เป็นหมายเลขของผู้โดยสารคนนั้น ๆ ในกลุ่ม โดยส่วนใหญ่ผู้โดยสารในกลุ่มเดียวกันมักเป็นครอบครัวเดียวกันแต่ก็ไม่เสมอไป\n",
        "*   HomePlanet : ชื่อดาวเคราะห์บ้านเกิดก่อนที่ผู้โดยสารจะขึ้นยานมา\t\t\t\t\n",
        "*   CryoSleep : ค่าที่บอกว่าผู้โดยสารคนนั้นนอนในแคปซูลแบบ Cryo Sleep ในห้องโดยสารของพวกเขาหรือไม่\n",
        "*   Cabin : หมายเลขห้องโดยสาร จะอยู่ในรูปแบบ deck/num/side โดย side นั้นจะเป็นมีแค่ P (Port) หรือ S (Starboard) เท่านั้น\n",
        "*   Destination : จุดหมายปลายทางที่ผู้โดยสารจะเดินทางไป\n",
        "*   Age : อายุของผู้โดยสาร\n",
        "*   VIP : ระบุถึงสถานะของผู้โดยสารว่าได้จ่ายเงินเพื่อบริการแบบ VIP หรือไม่\n",
        "*   RoomService,FoodCourt,ShoppingMall,Spa,VRDeck : เป็นค่าใช้จ่ายที่ผู้โดยสารถูกเรียกเก็บจากการใช้งานสิ่งอำนวยความสะดวกต่าง ๆ ภายในยาน\n",
        "*   Name : ชื่อและนามสกุลของผู้โดยสาร\n",
        "\n",
        "ค่าที่ต้องการทำนาย\n",
        "*   Transported : ค่าที่บอกว่าผู้โดยสารถูกส่งไปยังมิติอื่นหรือไม่\n",
        "\n",
        "\n",
        "\n",
        "\n",
        "\n",
        "\n",
        "\n",
        "\n",
        "\n"
      ]
    },
    {
      "cell_type": "code",
      "execution_count": null,
      "metadata": {
        "colab": {
          "base_uri": "https://localhost:8080/",
          "height": 238
        },
        "id": "tn2DMT238uY7",
        "outputId": "78620d21-fb70-40ed-cb96-0832fd6e9000"
      },
      "outputs": [
        {
          "data": {
            "text/html": [
              "\n",
              "  <div id=\"df-e34b6240-d848-4978-ac6e-6b23a60f3da9\">\n",
              "    <div class=\"colab-df-container\">\n",
              "      <div>\n",
              "<style scoped>\n",
              "    .dataframe tbody tr th:only-of-type {\n",
              "        vertical-align: middle;\n",
              "    }\n",
              "\n",
              "    .dataframe tbody tr th {\n",
              "        vertical-align: top;\n",
              "    }\n",
              "\n",
              "    .dataframe thead th {\n",
              "        text-align: right;\n",
              "    }\n",
              "</style>\n",
              "<table border=\"1\" class=\"dataframe\">\n",
              "  <thead>\n",
              "    <tr style=\"text-align: right;\">\n",
              "      <th></th>\n",
              "      <th>HomePlanet</th>\n",
              "      <th>CryoSleep</th>\n",
              "      <th>Cabin</th>\n",
              "      <th>Destination</th>\n",
              "      <th>Age</th>\n",
              "      <th>VIP</th>\n",
              "      <th>RoomService</th>\n",
              "      <th>FoodCourt</th>\n",
              "      <th>ShoppingMall</th>\n",
              "      <th>Spa</th>\n",
              "      <th>VRDeck</th>\n",
              "      <th>Name</th>\n",
              "      <th>Transported</th>\n",
              "    </tr>\n",
              "    <tr>\n",
              "      <th>PassengerId</th>\n",
              "      <th></th>\n",
              "      <th></th>\n",
              "      <th></th>\n",
              "      <th></th>\n",
              "      <th></th>\n",
              "      <th></th>\n",
              "      <th></th>\n",
              "      <th></th>\n",
              "      <th></th>\n",
              "      <th></th>\n",
              "      <th></th>\n",
              "      <th></th>\n",
              "      <th></th>\n",
              "    </tr>\n",
              "  </thead>\n",
              "  <tbody>\n",
              "    <tr>\n",
              "      <th>0001_01</th>\n",
              "      <td>Europa</td>\n",
              "      <td>False</td>\n",
              "      <td>B/0/P</td>\n",
              "      <td>TRAPPIST-1e</td>\n",
              "      <td>39.0</td>\n",
              "      <td>False</td>\n",
              "      <td>0.0</td>\n",
              "      <td>0.0</td>\n",
              "      <td>0.0</td>\n",
              "      <td>0.0</td>\n",
              "      <td>0.0</td>\n",
              "      <td>Maham Ofracculy</td>\n",
              "      <td>False</td>\n",
              "    </tr>\n",
              "    <tr>\n",
              "      <th>0002_01</th>\n",
              "      <td>Earth</td>\n",
              "      <td>False</td>\n",
              "      <td>F/0/S</td>\n",
              "      <td>TRAPPIST-1e</td>\n",
              "      <td>24.0</td>\n",
              "      <td>False</td>\n",
              "      <td>109.0</td>\n",
              "      <td>9.0</td>\n",
              "      <td>25.0</td>\n",
              "      <td>549.0</td>\n",
              "      <td>44.0</td>\n",
              "      <td>Juanna Vines</td>\n",
              "      <td>True</td>\n",
              "    </tr>\n",
              "    <tr>\n",
              "      <th>0003_01</th>\n",
              "      <td>Europa</td>\n",
              "      <td>False</td>\n",
              "      <td>A/0/S</td>\n",
              "      <td>TRAPPIST-1e</td>\n",
              "      <td>58.0</td>\n",
              "      <td>True</td>\n",
              "      <td>43.0</td>\n",
              "      <td>3576.0</td>\n",
              "      <td>0.0</td>\n",
              "      <td>6715.0</td>\n",
              "      <td>49.0</td>\n",
              "      <td>Altark Susent</td>\n",
              "      <td>False</td>\n",
              "    </tr>\n",
              "    <tr>\n",
              "      <th>0003_02</th>\n",
              "      <td>Europa</td>\n",
              "      <td>False</td>\n",
              "      <td>A/0/S</td>\n",
              "      <td>TRAPPIST-1e</td>\n",
              "      <td>33.0</td>\n",
              "      <td>False</td>\n",
              "      <td>0.0</td>\n",
              "      <td>1283.0</td>\n",
              "      <td>371.0</td>\n",
              "      <td>3329.0</td>\n",
              "      <td>193.0</td>\n",
              "      <td>Solam Susent</td>\n",
              "      <td>False</td>\n",
              "    </tr>\n",
              "    <tr>\n",
              "      <th>0004_01</th>\n",
              "      <td>Earth</td>\n",
              "      <td>False</td>\n",
              "      <td>F/1/S</td>\n",
              "      <td>TRAPPIST-1e</td>\n",
              "      <td>16.0</td>\n",
              "      <td>False</td>\n",
              "      <td>303.0</td>\n",
              "      <td>70.0</td>\n",
              "      <td>151.0</td>\n",
              "      <td>565.0</td>\n",
              "      <td>2.0</td>\n",
              "      <td>Willy Santantines</td>\n",
              "      <td>True</td>\n",
              "    </tr>\n",
              "  </tbody>\n",
              "</table>\n",
              "</div>\n",
              "      <button class=\"colab-df-convert\" onclick=\"convertToInteractive('df-e34b6240-d848-4978-ac6e-6b23a60f3da9')\"\n",
              "              title=\"Convert this dataframe to an interactive table.\"\n",
              "              style=\"display:none;\">\n",
              "        \n",
              "  <svg xmlns=\"http://www.w3.org/2000/svg\" height=\"24px\"viewBox=\"0 0 24 24\"\n",
              "       width=\"24px\">\n",
              "    <path d=\"M0 0h24v24H0V0z\" fill=\"none\"/>\n",
              "    <path d=\"M18.56 5.44l.94 2.06.94-2.06 2.06-.94-2.06-.94-.94-2.06-.94 2.06-2.06.94zm-11 1L8.5 8.5l.94-2.06 2.06-.94-2.06-.94L8.5 2.5l-.94 2.06-2.06.94zm10 10l.94 2.06.94-2.06 2.06-.94-2.06-.94-.94-2.06-.94 2.06-2.06.94z\"/><path d=\"M17.41 7.96l-1.37-1.37c-.4-.4-.92-.59-1.43-.59-.52 0-1.04.2-1.43.59L10.3 9.45l-7.72 7.72c-.78.78-.78 2.05 0 2.83L4 21.41c.39.39.9.59 1.41.59.51 0 1.02-.2 1.41-.59l7.78-7.78 2.81-2.81c.8-.78.8-2.07 0-2.86zM5.41 20L4 18.59l7.72-7.72 1.47 1.35L5.41 20z\"/>\n",
              "  </svg>\n",
              "      </button>\n",
              "      \n",
              "  <style>\n",
              "    .colab-df-container {\n",
              "      display:flex;\n",
              "      flex-wrap:wrap;\n",
              "      gap: 12px;\n",
              "    }\n",
              "\n",
              "    .colab-df-convert {\n",
              "      background-color: #E8F0FE;\n",
              "      border: none;\n",
              "      border-radius: 50%;\n",
              "      cursor: pointer;\n",
              "      display: none;\n",
              "      fill: #1967D2;\n",
              "      height: 32px;\n",
              "      padding: 0 0 0 0;\n",
              "      width: 32px;\n",
              "    }\n",
              "\n",
              "    .colab-df-convert:hover {\n",
              "      background-color: #E2EBFA;\n",
              "      box-shadow: 0px 1px 2px rgba(60, 64, 67, 0.3), 0px 1px 3px 1px rgba(60, 64, 67, 0.15);\n",
              "      fill: #174EA6;\n",
              "    }\n",
              "\n",
              "    [theme=dark] .colab-df-convert {\n",
              "      background-color: #3B4455;\n",
              "      fill: #D2E3FC;\n",
              "    }\n",
              "\n",
              "    [theme=dark] .colab-df-convert:hover {\n",
              "      background-color: #434B5C;\n",
              "      box-shadow: 0px 1px 3px 1px rgba(0, 0, 0, 0.15);\n",
              "      filter: drop-shadow(0px 1px 2px rgba(0, 0, 0, 0.3));\n",
              "      fill: #FFFFFF;\n",
              "    }\n",
              "  </style>\n",
              "\n",
              "      <script>\n",
              "        const buttonEl =\n",
              "          document.querySelector('#df-e34b6240-d848-4978-ac6e-6b23a60f3da9 button.colab-df-convert');\n",
              "        buttonEl.style.display =\n",
              "          google.colab.kernel.accessAllowed ? 'block' : 'none';\n",
              "\n",
              "        async function convertToInteractive(key) {\n",
              "          const element = document.querySelector('#df-e34b6240-d848-4978-ac6e-6b23a60f3da9');\n",
              "          const dataTable =\n",
              "            await google.colab.kernel.invokeFunction('convertToInteractive',\n",
              "                                                     [key], {});\n",
              "          if (!dataTable) return;\n",
              "\n",
              "          const docLinkHtml = 'Like what you see? Visit the ' +\n",
              "            '<a target=\"_blank\" href=https://colab.research.google.com/notebooks/data_table.ipynb>data table notebook</a>'\n",
              "            + ' to learn more about interactive tables.';\n",
              "          element.innerHTML = '';\n",
              "          dataTable['output_type'] = 'display_data';\n",
              "          await google.colab.output.renderOutput(dataTable, element);\n",
              "          const docLink = document.createElement('div');\n",
              "          docLink.innerHTML = docLinkHtml;\n",
              "          element.appendChild(docLink);\n",
              "        }\n",
              "      </script>\n",
              "    </div>\n",
              "  </div>\n",
              "  "
            ],
            "text/plain": [
              "            HomePlanet CryoSleep  Cabin  Destination   Age    VIP  \\\n",
              "PassengerId                                                         \n",
              "0001_01         Europa     False  B/0/P  TRAPPIST-1e  39.0  False   \n",
              "0002_01          Earth     False  F/0/S  TRAPPIST-1e  24.0  False   \n",
              "0003_01         Europa     False  A/0/S  TRAPPIST-1e  58.0   True   \n",
              "0003_02         Europa     False  A/0/S  TRAPPIST-1e  33.0  False   \n",
              "0004_01          Earth     False  F/1/S  TRAPPIST-1e  16.0  False   \n",
              "\n",
              "             RoomService  FoodCourt  ShoppingMall     Spa  VRDeck  \\\n",
              "PassengerId                                                         \n",
              "0001_01              0.0        0.0           0.0     0.0     0.0   \n",
              "0002_01            109.0        9.0          25.0   549.0    44.0   \n",
              "0003_01             43.0     3576.0           0.0  6715.0    49.0   \n",
              "0003_02              0.0     1283.0         371.0  3329.0   193.0   \n",
              "0004_01            303.0       70.0         151.0   565.0     2.0   \n",
              "\n",
              "                          Name  Transported  \n",
              "PassengerId                                  \n",
              "0001_01        Maham Ofracculy        False  \n",
              "0002_01           Juanna Vines         True  \n",
              "0003_01          Altark Susent        False  \n",
              "0003_02           Solam Susent        False  \n",
              "0004_01      Willy Santantines         True  "
            ]
          },
          "execution_count": 5,
          "metadata": {},
          "output_type": "execute_result"
        }
      ],
      "source": [
        "train_df.head()"
      ]
    },
    {
      "cell_type": "markdown",
      "metadata": {
        "id": "2xDjnV67CtS5"
      },
      "source": [
        "แสดงผลรวมของค่า null ในแต่ละคอลัมน์"
      ]
    },
    {
      "cell_type": "code",
      "execution_count": null,
      "metadata": {
        "colab": {
          "base_uri": "https://localhost:8080/"
        },
        "id": "d2TYwitd-ddR",
        "outputId": "464b320e-b71b-45ea-bf59-5d33ef4322be"
      },
      "outputs": [
        {
          "data": {
            "text/plain": [
              "HomePlanet      201\n",
              "CryoSleep       217\n",
              "Cabin           199\n",
              "Destination     182\n",
              "Age             179\n",
              "VIP             203\n",
              "RoomService     181\n",
              "FoodCourt       183\n",
              "ShoppingMall    208\n",
              "Spa             183\n",
              "VRDeck          188\n",
              "Name            200\n",
              "Transported       0\n",
              "dtype: int64"
            ]
          },
          "execution_count": 6,
          "metadata": {},
          "output_type": "execute_result"
        }
      ],
      "source": [
        "null_value=train_df.isnull().sum()\n",
        "null_value"
      ]
    },
    {
      "cell_type": "code",
      "execution_count": null,
      "metadata": {
        "id": "x5n8mPH5OnXx"
      },
      "outputs": [],
      "source": [
        "# from pandas_profiling import ProfileReport\n",
        "# profile = ProfileReport(train_df, title=\"Profiling Report\")\n",
        "# profile"
      ]
    },
    {
      "cell_type": "markdown",
      "metadata": {
        "id": "wk46Fu1_oiIR"
      },
      "source": [
        "##Exploratory Data Analysis (EDA)\n",
        "คือ กระบวนการตรวจสอบ และสำรวจข้อมูลเบื้องต้น โดยวิเคราะห์ข้อมูลที่จำเป็นก่อนนำข้อมูลไปใช้ หรือนำไปวิเคราะห์เชิงลึก"
      ]
    },
    {
      "cell_type": "code",
      "execution_count": null,
      "metadata": {
        "id": "Hizo7IZSpCxD"
      },
      "outputs": [],
      "source": [
        "palette = ['#636EFA', '#EF553B', '#00CC96', '#AB63FA', '#FFA15A', '#19D3F3', '#FF6692', '#B6E880', '#FF97FF', '#FECB52']"
      ]
    },
    {
      "cell_type": "code",
      "execution_count": null,
      "metadata": {
        "colab": {
          "base_uri": "https://localhost:8080/",
          "height": 813
        },
        "id": "ax2cL0_9VSCh",
        "outputId": "b46b3f4b-b658-4f95-d554-2e1d0dc8705c"
      },
      "outputs": [
        {
          "data": {
            "image/png": "[encoded data removed]",
            "text/plain": [
              "<Figure size 1080x360 with 5 Axes>"
            ]
          },
          "metadata": {},
          "output_type": "display_data"
        }
      ],
      "source": [
        "\n",
        "# Figure size\n",
        "\n",
        "plt.figure(figsize=(15,5))\n",
        "\n",
        "\n",
        "# Pie plot\n",
        "plt.subplot(2, 3, 1)\n",
        "labels = ('False', 'True')\n",
        "train_df['Transported'].value_counts().plot.pie(labels=labels,autopct='%1.1f%%', shadow=True,textprops={'fontsize':18}).set_title('Target distribution',fontsize=18 )\n",
        "\n",
        "# Colounm Homeplanet plot\n",
        "plt.subplot(2, 3, 2)\n",
        "sns.countplot(data=train_df, x='HomePlanet', hue='Transported')\n",
        "plt.title('HomePlanet',fontsize=18)\n",
        "plt.xlabel('HomePlanet', fontsize=15);\n",
        "plt.ylabel('Counts', fontsize=16);\n",
        "plt.tick_params(axis='both', which='major', labelsize=14)\n",
        "plt.legend(title='Transported', fontsize=12)\n",
        "\n",
        "# Column Cryosleep plot\n",
        "plt.subplot(2, 3, 3)\n",
        "sns.countplot(data=train_df, x='CryoSleep', hue='Transported')\n",
        "plt.title('CryoSleep',fontsize=18)\n",
        "plt.xlabel('CryoSleep', fontsize=15);\n",
        "plt.ylabel('Counts', fontsize=16);\n",
        "plt.tick_params(axis='both', which='major', labelsize=14)\n",
        "plt.legend(title='Transported', fontsize=12)\n",
        "\n",
        "\n",
        "# Column Destination plot\n",
        "plt.subplot(2, 3, 4)\n",
        "sns.countplot(data=train_df, x='Destination', hue='Transported')\n",
        "plt.title('Destination',fontsize=18)\n",
        "plt.xlabel('Destination', fontsize=15);\n",
        "plt.ylabel('Counts', fontsize=16);\n",
        "plt.tick_params(axis='both', which='major', labelsize=14)\n",
        "plt.legend(title='Transported', fontsize=12)\n",
        "\n",
        "\n",
        "# Column VIP plot\n",
        "plt.subplot(2, 3, 5)\n",
        "sns.countplot(data=train_df, x='VIP', hue='Transported')\n",
        "plt.title('VIP',fontsize=18)\n",
        "plt.xlabel('VIP', fontsize=15);\n",
        "plt.ylabel('Counts', fontsize=16);\n",
        "plt.tick_params(axis='both', which='major', labelsize=14)\n",
        "plt.legend(title='Transported', fontsize=12)\n",
        "\n",
        "\n",
        "plt.subplots_adjust(left=1, bottom=1, right=2, top=3, wspace=1, hspace=0.5)"
      ]
    },
    {
      "cell_type": "markdown",
      "metadata": {
        "id": "wgeBxcoTQF2c"
      },
      "source": []
    },
    {
      "cell_type": "markdown",
      "metadata": {
        "id": "oWYbhxbulXTr"
      },
      "source": [
        "*   Pie Chart แสดงสัดส่วนผู้โดยสารที่ถูกส่งไปยังมิติอื่นเป็น 50.4% และไม่ถูกส่งไปยังมิติอื่น 49.6%\n",
        "*   Bar Chart HomePlanet เปรียบเทียบจำนวนผู้โดยสารจากดาวเคราะห์บ้านเกิด Europa, Earth, Mars ว่ามีสัดส่วนผู้โดยสารที่ถูกส่งและไม่ถูกส่งไปยังมิติอื่นเป็นเท่าไหร่\n",
        ">ในที่นี้มีสัดส่วนผู้โดยสารที่มาจากดาวเคราะห์ Earth ถูกส่งไปยังมิติอื่นมากที่สุดตามด้วย Europa, Mars ตามลำดับ และสัดส่วนผู้โดยสารที่มาจากดาวเคราะห์ Earth ไม่ถูกส่งไปยังมิติอื่นมากที่สุดตามด้วย Mars, Europa ตามลำดับ\n",
        "*   Bar Chart CryoSleep เปรียบเทียบจำนวนผู้โดยสารที่นอน และไม่นอนในแคปซูล Cryo Sleep ว่ามีสัดส่วนผู้โดยสารที่ถูกส่งและไม่ถูกส่งไปยังมิติอื่นเป็นเท่าไหร่\n",
        ">ในที่นี้มีสัดส่วนผู้โดยสารที่นอนในแคปซูลถูกส่งไปยังมิติอื่นมากกว่าผู้โดยสารที่ไม่นอนในแคปซูล \n",
        "*   Bar Chart Destination เปรียบเทียบจำนวนผู้โดยสารที่มีจุดหมายปลายทางไป TRAPPIST-1e, PSO J318.5-22, 55 Cancri e ว่ามีสัดส่วนผู้โดยสารที่ถูกส่งและไม่ถูกส่งไปยังมิติอื่นเป็นเท่าไหร่\n",
        ">ในที่นี้มีสัดส่วนผู้โดยสารที่มีจุดหมายปลายทางไป TRAPPIST-1e ถูกส่งไปยังมิติอื่นมากที่สุดตามด้วย 55 Cancri e, PSO J318.5-22 ตามลำดับ \n",
        "*   Bar Chart VIP เปรียบเทียบจำนวนผู้โดยสารที่มีสถานะ VIP ว่ามีสัดส่วนผู้โดยสารที่ถูกส่งและไม่ถูกส่งไปยังมิติอื่นเป็นเท่าไหร่\n",
        ">ในที่นี้มีสัดส่วนผู้โดยสารที่ไม่เป็น VIP ถูกส่งไปยังมิติอื่นมากกว่าผู้โดยสารที่เป็น VIP\n",
        "\n",
        "\n",
        "\n",
        "\n",
        "\n",
        "\n",
        "\n",
        "\n",
        "\n",
        "\n"
      ]
    },
    {
      "cell_type": "markdown",
      "metadata": {
        "id": "4ugw1aspBjWA"
      },
      "source": [
        "##Feature Engineering\n",
        "คือ ขั้นตอนสำหรับการสำรวจและจัดเตรียมข้อมูลให้เหมาะสมกับ Model เพื่อให้สามารถเทรน Model และทำนายผลได้ ไปจนถึงช่วยเพิ่มความถูกต้องแม่นยำในการทำนายผลของ Model ด้วย"
      ]
    },
    {
      "cell_type": "markdown",
      "metadata": {
        "id": "bQso6y-bEiiM"
      },
      "source": [
        "แปลงข้อมูลในคอลัมน์ Transported จาก boolean ให้เป็น numeric โดยให้\n",
        "> True = 1 , False = 0   "
      ]
    },
    {
      "cell_type": "code",
      "execution_count": null,
      "metadata": {
        "id": "xpUsOB8qOtJY"
      },
      "outputs": [],
      "source": [
        "train_df['Transported'].replace(False, 0, inplace=True)\n",
        "train_df['Transported'].replace(True, 1, inplace=True)"
      ]
    },
    {
      "cell_type": "markdown",
      "metadata": {
        "id": "Y39Rj6KTE7LN"
      },
      "source": [
        "แบ่งข้อมูลจากคอลัมน์ Cabin ออกเป็น 3 คอลัมน์ใหม่ โดยใช้ชื่อว่า deck, num, \n",
        "side ตามลำดับ \n",
        "\n",
        "หลังจากนั้นลบคอลัมน์ Cabin และ Name ที่ไม่ได้ใช้แล้วออก\n",
        "\n",
        "\n",
        "\n"
      ]
    },
    {
      "cell_type": "code",
      "execution_count": null,
      "metadata": {
        "id": "PaF4AMEQrSqy"
      },
      "outputs": [],
      "source": [
        "def cabin_process(train,test):\n",
        "  train[['deck','num', 'side']] = train['Cabin'].str.split('/', expand=True)\n",
        "  test[['deck','num', 'side']] = test['Cabin'].str.split('/', expand=True)\n",
        "\n",
        "  return train,test\n",
        "\n",
        "train_df , test_df = cabin_process(train_df,test_df)\n",
        "\n",
        "train_df.drop(['Cabin','Name'], axis=1, inplace=True)\n",
        "test_df.drop(['Cabin','Name'], axis=1, inplace=True)\n"
      ]
    },
    {
      "cell_type": "code",
      "execution_count": null,
      "metadata": {
        "colab": {
          "base_uri": "https://localhost:8080/",
          "height": 455
        },
        "id": "pFOZ86LdgXRx",
        "outputId": "ef91db4e-94b2-4cf6-8193-2c43f65be1ce"
      },
      "outputs": [
        {
          "data": {
            "text/html": [
              "\n",
              "  <div id=\"df-8164d473-cf23-4e05-8a3a-6520adef14c4\">\n",
              "    <div class=\"colab-df-container\">\n",
              "      <div>\n",
              "<style scoped>\n",
              "    .dataframe tbody tr th:only-of-type {\n",
              "        vertical-align: middle;\n",
              "    }\n",
              "\n",
              "    .dataframe tbody tr th {\n",
              "        vertical-align: top;\n",
              "    }\n",
              "\n",
              "    .dataframe thead th {\n",
              "        text-align: right;\n",
              "    }\n",
              "</style>\n",
              "<table border=\"1\" class=\"dataframe\">\n",
              "  <thead>\n",
              "    <tr style=\"text-align: right;\">\n",
              "      <th></th>\n",
              "      <th>HomePlanet</th>\n",
              "      <th>CryoSleep</th>\n",
              "      <th>Destination</th>\n",
              "      <th>Age</th>\n",
              "      <th>VIP</th>\n",
              "      <th>RoomService</th>\n",
              "      <th>FoodCourt</th>\n",
              "      <th>ShoppingMall</th>\n",
              "      <th>Spa</th>\n",
              "      <th>VRDeck</th>\n",
              "      <th>Transported</th>\n",
              "      <th>deck</th>\n",
              "      <th>num</th>\n",
              "      <th>side</th>\n",
              "    </tr>\n",
              "    <tr>\n",
              "      <th>PassengerId</th>\n",
              "      <th></th>\n",
              "      <th></th>\n",
              "      <th></th>\n",
              "      <th></th>\n",
              "      <th></th>\n",
              "      <th></th>\n",
              "      <th></th>\n",
              "      <th></th>\n",
              "      <th></th>\n",
              "      <th></th>\n",
              "      <th></th>\n",
              "      <th></th>\n",
              "      <th></th>\n",
              "      <th></th>\n",
              "    </tr>\n",
              "  </thead>\n",
              "  <tbody>\n",
              "    <tr>\n",
              "      <th>0001_01</th>\n",
              "      <td>Europa</td>\n",
              "      <td>False</td>\n",
              "      <td>TRAPPIST-1e</td>\n",
              "      <td>39.0</td>\n",
              "      <td>False</td>\n",
              "      <td>0.0</td>\n",
              "      <td>0.0</td>\n",
              "      <td>0.0</td>\n",
              "      <td>0.0</td>\n",
              "      <td>0.0</td>\n",
              "      <td>0</td>\n",
              "      <td>B</td>\n",
              "      <td>0</td>\n",
              "      <td>P</td>\n",
              "    </tr>\n",
              "    <tr>\n",
              "      <th>0002_01</th>\n",
              "      <td>Earth</td>\n",
              "      <td>False</td>\n",
              "      <td>TRAPPIST-1e</td>\n",
              "      <td>24.0</td>\n",
              "      <td>False</td>\n",
              "      <td>109.0</td>\n",
              "      <td>9.0</td>\n",
              "      <td>25.0</td>\n",
              "      <td>549.0</td>\n",
              "      <td>44.0</td>\n",
              "      <td>1</td>\n",
              "      <td>F</td>\n",
              "      <td>0</td>\n",
              "      <td>S</td>\n",
              "    </tr>\n",
              "    <tr>\n",
              "      <th>0003_01</th>\n",
              "      <td>Europa</td>\n",
              "      <td>False</td>\n",
              "      <td>TRAPPIST-1e</td>\n",
              "      <td>58.0</td>\n",
              "      <td>True</td>\n",
              "      <td>43.0</td>\n",
              "      <td>3576.0</td>\n",
              "      <td>0.0</td>\n",
              "      <td>6715.0</td>\n",
              "      <td>49.0</td>\n",
              "      <td>0</td>\n",
              "      <td>A</td>\n",
              "      <td>0</td>\n",
              "      <td>S</td>\n",
              "    </tr>\n",
              "    <tr>\n",
              "      <th>0003_02</th>\n",
              "      <td>Europa</td>\n",
              "      <td>False</td>\n",
              "      <td>TRAPPIST-1e</td>\n",
              "      <td>33.0</td>\n",
              "      <td>False</td>\n",
              "      <td>0.0</td>\n",
              "      <td>1283.0</td>\n",
              "      <td>371.0</td>\n",
              "      <td>3329.0</td>\n",
              "      <td>193.0</td>\n",
              "      <td>0</td>\n",
              "      <td>A</td>\n",
              "      <td>0</td>\n",
              "      <td>S</td>\n",
              "    </tr>\n",
              "    <tr>\n",
              "      <th>0004_01</th>\n",
              "      <td>Earth</td>\n",
              "      <td>False</td>\n",
              "      <td>TRAPPIST-1e</td>\n",
              "      <td>16.0</td>\n",
              "      <td>False</td>\n",
              "      <td>303.0</td>\n",
              "      <td>70.0</td>\n",
              "      <td>151.0</td>\n",
              "      <td>565.0</td>\n",
              "      <td>2.0</td>\n",
              "      <td>1</td>\n",
              "      <td>F</td>\n",
              "      <td>1</td>\n",
              "      <td>S</td>\n",
              "    </tr>\n",
              "    <tr>\n",
              "      <th>...</th>\n",
              "      <td>...</td>\n",
              "      <td>...</td>\n",
              "      <td>...</td>\n",
              "      <td>...</td>\n",
              "      <td>...</td>\n",
              "      <td>...</td>\n",
              "      <td>...</td>\n",
              "      <td>...</td>\n",
              "      <td>...</td>\n",
              "      <td>...</td>\n",
              "      <td>...</td>\n",
              "      <td>...</td>\n",
              "      <td>...</td>\n",
              "      <td>...</td>\n",
              "    </tr>\n",
              "    <tr>\n",
              "      <th>9276_01</th>\n",
              "      <td>Europa</td>\n",
              "      <td>False</td>\n",
              "      <td>55 Cancri e</td>\n",
              "      <td>41.0</td>\n",
              "      <td>True</td>\n",
              "      <td>0.0</td>\n",
              "      <td>6819.0</td>\n",
              "      <td>0.0</td>\n",
              "      <td>1643.0</td>\n",
              "      <td>74.0</td>\n",
              "      <td>0</td>\n",
              "      <td>A</td>\n",
              "      <td>98</td>\n",
              "      <td>P</td>\n",
              "    </tr>\n",
              "    <tr>\n",
              "      <th>9278_01</th>\n",
              "      <td>Earth</td>\n",
              "      <td>True</td>\n",
              "      <td>PSO J318.5-22</td>\n",
              "      <td>18.0</td>\n",
              "      <td>False</td>\n",
              "      <td>0.0</td>\n",
              "      <td>0.0</td>\n",
              "      <td>0.0</td>\n",
              "      <td>0.0</td>\n",
              "      <td>0.0</td>\n",
              "      <td>0</td>\n",
              "      <td>G</td>\n",
              "      <td>1499</td>\n",
              "      <td>S</td>\n",
              "    </tr>\n",
              "    <tr>\n",
              "      <th>9279_01</th>\n",
              "      <td>Earth</td>\n",
              "      <td>False</td>\n",
              "      <td>TRAPPIST-1e</td>\n",
              "      <td>26.0</td>\n",
              "      <td>False</td>\n",
              "      <td>0.0</td>\n",
              "      <td>0.0</td>\n",
              "      <td>1872.0</td>\n",
              "      <td>1.0</td>\n",
              "      <td>0.0</td>\n",
              "      <td>1</td>\n",
              "      <td>G</td>\n",
              "      <td>1500</td>\n",
              "      <td>S</td>\n",
              "    </tr>\n",
              "    <tr>\n",
              "      <th>9280_01</th>\n",
              "      <td>Europa</td>\n",
              "      <td>False</td>\n",
              "      <td>55 Cancri e</td>\n",
              "      <td>32.0</td>\n",
              "      <td>False</td>\n",
              "      <td>0.0</td>\n",
              "      <td>1049.0</td>\n",
              "      <td>0.0</td>\n",
              "      <td>353.0</td>\n",
              "      <td>3235.0</td>\n",
              "      <td>0</td>\n",
              "      <td>E</td>\n",
              "      <td>608</td>\n",
              "      <td>S</td>\n",
              "    </tr>\n",
              "    <tr>\n",
              "      <th>9280_02</th>\n",
              "      <td>Europa</td>\n",
              "      <td>False</td>\n",
              "      <td>TRAPPIST-1e</td>\n",
              "      <td>44.0</td>\n",
              "      <td>False</td>\n",
              "      <td>126.0</td>\n",
              "      <td>4688.0</td>\n",
              "      <td>0.0</td>\n",
              "      <td>0.0</td>\n",
              "      <td>12.0</td>\n",
              "      <td>1</td>\n",
              "      <td>E</td>\n",
              "      <td>608</td>\n",
              "      <td>S</td>\n",
              "    </tr>\n",
              "  </tbody>\n",
              "</table>\n",
              "<p>8693 rows × 14 columns</p>\n",
              "</div>\n",
              "      <button class=\"colab-df-convert\" onclick=\"convertToInteractive('df-8164d473-cf23-4e05-8a3a-6520adef14c4')\"\n",
              "              title=\"Convert this dataframe to an interactive table.\"\n",
              "              style=\"display:none;\">\n",
              "        \n",
              "  <svg xmlns=\"http://www.w3.org/2000/svg\" height=\"24px\"viewBox=\"0 0 24 24\"\n",
              "       width=\"24px\">\n",
              "    <path d=\"M0 0h24v24H0V0z\" fill=\"none\"/>\n",
              "    <path d=\"M18.56 5.44l.94 2.06.94-2.06 2.06-.94-2.06-.94-.94-2.06-.94 2.06-2.06.94zm-11 1L8.5 8.5l.94-2.06 2.06-.94-2.06-.94L8.5 2.5l-.94 2.06-2.06.94zm10 10l.94 2.06.94-2.06 2.06-.94-2.06-.94-.94-2.06-.94 2.06-2.06.94z\"/><path d=\"M17.41 7.96l-1.37-1.37c-.4-.4-.92-.59-1.43-.59-.52 0-1.04.2-1.43.59L10.3 9.45l-7.72 7.72c-.78.78-.78 2.05 0 2.83L4 21.41c.39.39.9.59 1.41.59.51 0 1.02-.2 1.41-.59l7.78-7.78 2.81-2.81c.8-.78.8-2.07 0-2.86zM5.41 20L4 18.59l7.72-7.72 1.47 1.35L5.41 20z\"/>\n",
              "  </svg>\n",
              "      </button>\n",
              "      \n",
              "  <style>\n",
              "    .colab-df-container {\n",
              "      display:flex;\n",
              "      flex-wrap:wrap;\n",
              "      gap: 12px;\n",
              "    }\n",
              "\n",
              "    .colab-df-convert {\n",
              "      background-color: #E8F0FE;\n",
              "      border: none;\n",
              "      border-radius: 50%;\n",
              "      cursor: pointer;\n",
              "      display: none;\n",
              "      fill: #1967D2;\n",
              "      height: 32px;\n",
              "      padding: 0 0 0 0;\n",
              "      width: 32px;\n",
              "    }\n",
              "\n",
              "    .colab-df-convert:hover {\n",
              "      background-color: #E2EBFA;\n",
              "      box-shadow: 0px 1px 2px rgba(60, 64, 67, 0.3), 0px 1px 3px 1px rgba(60, 64, 67, 0.15);\n",
              "      fill: #174EA6;\n",
              "    }\n",
              "\n",
              "    [theme=dark] .colab-df-convert {\n",
              "      background-color: #3B4455;\n",
              "      fill: #D2E3FC;\n",
              "    }\n",
              "\n",
              "    [theme=dark] .colab-df-convert:hover {\n",
              "      background-color: #434B5C;\n",
              "      box-shadow: 0px 1px 3px 1px rgba(0, 0, 0, 0.15);\n",
              "      filter: drop-shadow(0px 1px 2px rgba(0, 0, 0, 0.3));\n",
              "      fill: #FFFFFF;\n",
              "    }\n",
              "  </style>\n",
              "\n",
              "      <script>\n",
              "        const buttonEl =\n",
              "          document.querySelector('#df-8164d473-cf23-4e05-8a3a-6520adef14c4 button.colab-df-convert');\n",
              "        buttonEl.style.display =\n",
              "          google.colab.kernel.accessAllowed ? 'block' : 'none';\n",
              "\n",
              "        async function convertToInteractive(key) {\n",
              "          const element = document.querySelector('#df-8164d473-cf23-4e05-8a3a-6520adef14c4');\n",
              "          const dataTable =\n",
              "            await google.colab.kernel.invokeFunction('convertToInteractive',\n",
              "                                                     [key], {});\n",
              "          if (!dataTable) return;\n",
              "\n",
              "          const docLinkHtml = 'Like what you see? Visit the ' +\n",
              "            '<a target=\"_blank\" href=https://colab.research.google.com/notebooks/data_table.ipynb>data table notebook</a>'\n",
              "            + ' to learn more about interactive tables.';\n",
              "          element.innerHTML = '';\n",
              "          dataTable['output_type'] = 'display_data';\n",
              "          await google.colab.output.renderOutput(dataTable, element);\n",
              "          const docLink = document.createElement('div');\n",
              "          docLink.innerHTML = docLinkHtml;\n",
              "          element.appendChild(docLink);\n",
              "        }\n",
              "      </script>\n",
              "    </div>\n",
              "  </div>\n",
              "  "
            ],
            "text/plain": [
              "            HomePlanet CryoSleep    Destination   Age    VIP  RoomService  \\\n",
              "PassengerId                                                                 \n",
              "0001_01         Europa     False    TRAPPIST-1e  39.0  False          0.0   \n",
              "0002_01          Earth     False    TRAPPIST-1e  24.0  False        109.0   \n",
              "0003_01         Europa     False    TRAPPIST-1e  58.0   True         43.0   \n",
              "0003_02         Europa     False    TRAPPIST-1e  33.0  False          0.0   \n",
              "0004_01          Earth     False    TRAPPIST-1e  16.0  False        303.0   \n",
              "...                ...       ...            ...   ...    ...          ...   \n",
              "9276_01         Europa     False    55 Cancri e  41.0   True          0.0   \n",
              "9278_01          Earth      True  PSO J318.5-22  18.0  False          0.0   \n",
              "9279_01          Earth     False    TRAPPIST-1e  26.0  False          0.0   \n",
              "9280_01         Europa     False    55 Cancri e  32.0  False          0.0   \n",
              "9280_02         Europa     False    TRAPPIST-1e  44.0  False        126.0   \n",
              "\n",
              "             FoodCourt  ShoppingMall     Spa  VRDeck  Transported deck   num  \\\n",
              "PassengerId                                                                    \n",
              "0001_01            0.0           0.0     0.0     0.0            0    B     0   \n",
              "0002_01            9.0          25.0   549.0    44.0            1    F     0   \n",
              "0003_01         3576.0           0.0  6715.0    49.0            0    A     0   \n",
              "0003_02         1283.0         371.0  3329.0   193.0            0    A     0   \n",
              "0004_01           70.0         151.0   565.0     2.0            1    F     1   \n",
              "...                ...           ...     ...     ...          ...  ...   ...   \n",
              "9276_01         6819.0           0.0  1643.0    74.0            0    A    98   \n",
              "9278_01            0.0           0.0     0.0     0.0            0    G  1499   \n",
              "9279_01            0.0        1872.0     1.0     0.0            1    G  1500   \n",
              "9280_01         1049.0           0.0   353.0  3235.0            0    E   608   \n",
              "9280_02         4688.0           0.0     0.0    12.0            1    E   608   \n",
              "\n",
              "            side  \n",
              "PassengerId       \n",
              "0001_01        P  \n",
              "0002_01        S  \n",
              "0003_01        S  \n",
              "0003_02        S  \n",
              "0004_01        S  \n",
              "...          ...  \n",
              "9276_01        P  \n",
              "9278_01        S  \n",
              "9279_01        S  \n",
              "9280_01        S  \n",
              "9280_02        S  \n",
              "\n",
              "[8693 rows x 14 columns]"
            ]
          },
          "execution_count": 13,
          "metadata": {},
          "output_type": "execute_result"
        }
      ],
      "source": [
        "train_df"
      ]
    },
    {
      "cell_type": "markdown",
      "metadata": {
        "id": "Wa5QyvlyFdla"
      },
      "source": [
        "สร้างคอลัมน์ใหม่ซึ่งเป็นผลรวมค่าใช้จ่ายของ RoomService, FoodCourt, ShoppingMall, Spa และ VRDeck ชื่อว่า SumSpends"
      ]
    },
    {
      "cell_type": "code",
      "execution_count": null,
      "metadata": {
        "id": "7fAusRcJO-fx"
      },
      "outputs": [],
      "source": [
        "train_df['total_spent']= train_df['RoomService']+ train_df['FoodCourt']+ train_df['ShoppingMall']+ train_df['Spa']+ train_df['VRDeck']\n",
        "test_df['total_spent']=test_df['RoomService']+test_df['FoodCourt']+test_df['ShoppingMall']+test_df['Spa']+test_df['VRDeck']"
      ]
    },
    {
      "cell_type": "code",
      "execution_count": null,
      "metadata": {
        "id": "W6dyWSouPIMx"
      },
      "outputs": [],
      "source": [
        "col_to_sum = ['RoomService', 'FoodCourt', 'ShoppingMall', 'Spa', 'VRDeck']\n",
        "\n",
        "train_df['SumSpends'] = train_df[col_to_sum].sum(axis=1)\n",
        "test_df['SumSpends'] = test_df[col_to_sum].sum(axis=1)"
      ]
    },
    {
      "cell_type": "code",
      "execution_count": null,
      "metadata": {
        "id": "PQln27GHZ1nu"
      },
      "outputs": [],
      "source": [
        "# New features - training set\n",
        "train_df['Expenditure']=train_df[col_to_sum].sum(axis=1)\n",
        "\n",
        "fig=plt.figure(figsize=(12,4))\n",
        "plt.subplot(1,2,1)\n",
        "sns.histplot(data=train_df, x='Expenditure', hue='Transported', bins=200)\n",
        "plt.title('Total expenditure')\n",
        "plt.ylim([0,1000])\n",
        "plt.xlim([0,20000])"
      ]
    },
    {
      "cell_type": "code",
      "execution_count": null,
      "metadata": {
        "id": "O1R2O2O2Y5oa"
      },
      "outputs": [],
      "source": [
        "# # Expenditure features\n",
        "# col_to_sum=['RoomService', 'FoodCourt', 'ShoppingMall', 'Spa', 'VRDeck']\n",
        "\n",
        "# # Plot expenditure features\n",
        "# fig=plt.figure(figsize=(10,20))\n",
        "# for i, var_name in enumerate(col_to_sum):\n",
        "#     # Left plot\n",
        "#     ax=fig.add_subplot(5,2,2*i+1)\n",
        "#     sns.histplot(data=train_df, x=var_name, axes=ax, bins=30, kde=False, hue='Transported')\n",
        "#     ax.set_title(var_name)\n",
        "    \n",
        "#     # Right plot (truncated)\n",
        "#     ax=fig.add_subplot(5,2,2*i+2)\n",
        "#     sns.histplot(data=train_df, x=var_name, axes=ax, bins=30, kde=True, hue='Transported')\n",
        "#     plt.ylim([0,100])\n",
        "#     ax.set_title(var_name)\n",
        "# fig.tight_layout()  # Improves appearance a bit\n",
        "# plt.show()"
      ]
    },
    {
      "cell_type": "code",
      "execution_count": null,
      "metadata": {
        "colab": {
          "base_uri": "https://localhost:8080/"
        },
        "id": "UMc_jG17PDI3",
        "outputId": "fa6015d3-94e7-4b0c-e700-b9a09d7579ee"
      },
      "outputs": [
        {
          "data": {
            "text/plain": [
              "1817"
            ]
          },
          "execution_count": 19,
          "metadata": {},
          "output_type": "execute_result"
        }
      ],
      "source": [
        "train_df['num'].nunique()"
      ]
    },
    {
      "cell_type": "code",
      "execution_count": null,
      "metadata": {
        "id": "K95pYqhhAFRc"
      },
      "outputs": [],
      "source": [
        "train_df.head()"
      ]
    },
    {
      "cell_type": "code",
      "execution_count": null,
      "metadata": {
        "id": "ozPB9eLVNMqC"
      },
      "outputs": [],
      "source": [
        "# import matplotlib.pyplot as plt\n",
        "# import seaborn as sns\n",
        "plt.figure(figsize=(15, 5))\n",
        "\n",
        "plt.subplot(2, 3, 1)\n",
        "sns.countplot(train_df.deck,hue=train_df.Transported);\n",
        "plt.title('deck',fontsize=18)\n",
        "plt.xlabel('deck', fontsize=15);\n",
        "plt.ylabel('Counts', fontsize=16);\n",
        "plt.tick_params(axis='both', which='major', labelsize=14)\n",
        "plt.legend(title='Transported', fontsize=12)\n",
        "\n",
        "plt.subplot(2, 3, 2)\n",
        "sns.countplot(train_df.side,hue=train_df.Transported);\n",
        "plt.title('side',fontsize=18)\n",
        "plt.xlabel('side', fontsize=15);\n",
        "plt.ylabel('Counts', fontsize=16);\n",
        "plt.tick_params(axis='both', which='major', labelsize=14)\n",
        "plt.legend(title='Transported', fontsize=12)\n",
        "\n",
        "# plt.subplot(2, 3, 3)\n",
        "#sns.histplot(data=train, x='num', hue='Transported', binwidth=1, kde=True)\n",
        "\n",
        "plt.subplots_adjust(left=1, bottom=1, right=2, top=3, wspace=1, hspace=0.5)\n",
        "#subplots_adjust(left=None, bottom=2, right=None, top=None, wspace=None, hspace=None)\n",
        "\n",
        "# fig.tight_layout()\n",
        "# plt.tight_layout()"
      ]
    },
    {
      "cell_type": "markdown",
      "metadata": {
        "id": "5RdVvygewVmv"
      },
      "source": [
        "*   Bar Chart deck เปรียบเทียบจำนวนห้องของผู้โดยสารแต่ละโซน A, B, C, D, E, F, G, T ว่ามีสัดส่วนผู้โดยสารที่ถูกส่งและไม่ถูกส่งไปยังมิติอื่นเป็นเท่าไหร่\n",
        ">ในที่นี้มีสัดส่วนผู้โดยสารที่อยู่โซน G ถูกส่งไปยังมิติอื่นมากที่สุดตามด้วยโซน F, B, C, E, D, A, T ตามลำดับ\n",
        "*   Bar Chart side เปรียบเทียบจำนวนขนาดห้องของผู้โดยสารว่ามีสัดส่วนผู้โดยสารที่ถูกส่งและไม่ถูกส่งไปยังมิติอื่นเป็นเท่าไหร่\n",
        ">ในที่นี้ผู้โดยสารที่อยู่ขนาดห้อง S ถูกส่งไปยังมิติอื่นมากกว่าผู้โดยสารที่อยู่ขนาดห้อง P\n",
        "\n"
      ]
    },
    {
      "cell_type": "markdown",
      "metadata": {
        "id": "qa9DKMlYMlXB"
      },
      "source": [
        "##Preparing Data"
      ]
    },
    {
      "cell_type": "markdown",
      "metadata": {
        "id": "JdWRZvkGHb2P"
      },
      "source": [
        "ตรวจสอบคอลัมน์ที่มีข้อมูลเป็น Object และNumeric ดังนี้\n",
        "* Object : HomePlanet, CryoSleep, Destination, VIP, deck, num, side \n",
        "* Numeric : Age, RoomService, FoodCourt, ShoppingMall, Spa, VRDeck, SumSpends"
      ]
    },
    {
      "cell_type": "code",
      "execution_count": null,
      "metadata": {
        "colab": {
          "base_uri": "https://localhost:8080/"
        },
        "id": "H9gpRxSxPGuS",
        "outputId": "584744d3-157b-4340-828c-eb0e3b885615"
      },
      "outputs": [
        {
          "name": "stdout",
          "output_type": "stream",
          "text": [
            "Object cols -- ['HomePlanet', 'CryoSleep', 'Destination', 'VIP', 'deck', 'num', 'side']\n",
            "Numeric cols -- ['Age', 'RoomService', 'FoodCourt', 'ShoppingMall', 'Spa', 'VRDeck', 'total_spent', 'SumSpends']\n"
          ]
        }
      ],
      "source": [
        "object_cols = [col for col in train_df.columns if train_df[col].dtype == 'object' or train_df[col].dtype == 'category']\n",
        "numeric_cols = [col for col in train_df.columns if train_df[col].dtype == 'float64']\n",
        "\n",
        "print(f'Object cols -- {object_cols}')\n",
        "print(f'Numeric cols -- {numeric_cols}')"
      ]
    },
    {
      "cell_type": "markdown",
      "metadata": {
        "id": "cwl-HAGgJ9JT"
      },
      "source": [
        "จากการตรวจสอบข้อมูล พบว่าคอลัมน์ส่วนใหญ่ยังมี null value อยู่เป็นจำนวนมากใน train data"
      ]
    },
    {
      "cell_type": "code",
      "execution_count": null,
      "metadata": {
        "colab": {
          "base_uri": "https://localhost:8080/"
        },
        "id": "fMgmkr9z_aym",
        "outputId": "334d9eb1-111c-4994-e192-f4b31272989a"
      },
      "outputs": [
        {
          "data": {
            "text/plain": [
              "HomePlanet      201\n",
              "CryoSleep       217\n",
              "Destination     182\n",
              "Age             179\n",
              "VIP             203\n",
              "RoomService     181\n",
              "FoodCourt       183\n",
              "ShoppingMall    208\n",
              "Spa             183\n",
              "VRDeck          188\n",
              "Transported       0\n",
              "deck            199\n",
              "num             199\n",
              "side            199\n",
              "total_spent     908\n",
              "SumSpends         0\n",
              "dtype: int64"
            ]
          },
          "execution_count": 22,
          "metadata": {},
          "output_type": "execute_result"
        }
      ],
      "source": [
        "null_value=train_df.isnull().sum()\n",
        "null_value"
      ]
    },
    {
      "cell_type": "code",
      "execution_count": null,
      "metadata": {
        "colab": {
          "base_uri": "https://localhost:8080/"
        },
        "id": "9aIGvl6NPJcF",
        "outputId": "a175b0bc-1011-445b-c670-9da0a9735225"
      },
      "outputs": [
        {
          "data": {
            "text/plain": [
              "['total_spent',\n",
              " 'CryoSleep',\n",
              " 'ShoppingMall',\n",
              " 'VIP',\n",
              " 'HomePlanet',\n",
              " 'deck',\n",
              " 'num',\n",
              " 'side',\n",
              " 'VRDeck',\n",
              " 'FoodCourt',\n",
              " 'Spa',\n",
              " 'Destination',\n",
              " 'RoomService',\n",
              " 'Age']"
            ]
          },
          "execution_count": 23,
          "metadata": {},
          "output_type": "execute_result"
        }
      ],
      "source": [
        "null_cols = train_df.isnull().sum().sort_values(ascending=False)\n",
        "null_cols = list(null_cols[null_cols>1].index)\n",
        "null_cols"
      ]
    },
    {
      "cell_type": "code",
      "execution_count": null,
      "metadata": {
        "colab": {
          "background_save": true
        },
        "id": "CbSASHx8So7h"
      },
      "outputs": [],
      "source": [
        "sns.set_palette(palette)\n",
        "fig,ax = plt.subplots(1,1, figsize=(12,8))\n",
        "(train_df.isnull().mean()*100).plot(kind='bar', ax=ax, align='center', width=.4)\n",
        "(test_df.isnull().mean()*100).plot(kind='bar', ax=ax, align='edge',width=.4, color=palette[1])\n",
        "plt.legend(labels=['Train Set','Test Set'])\n",
        "ax.yaxis.set_major_formatter(mtick.PercentFormatter())\n",
        "ax.tick_params(axis='x', labelrotation=80)\n",
        "ax.set_ylabel('Missing Values (%)')\n",
        "ax.set_title('Percentage of missing values in train and test set');"
      ]
    },
    {
      "cell_type": "markdown",
      "metadata": {
        "id": "4RrICkMAMhNw"
      },
      "source": [
        "* Chart แสดงสัดส่วน Missing Values ในแต่ละคอลัมน์ของ train data และ test data #แก้นิดนึงจ้า\n",
        ">คอลัมน์ CryoSleep มี Missing Values ใน train data มากที่สุด \n",
        "และคอลัมน์ FoodCourt มี Missing Values ใน test data มากที่สุด"
      ]
    },
    {
      "cell_type": "code",
      "execution_count": null,
      "metadata": {
        "id": "zvigzw1JPK6k"
      },
      "outputs": [],
      "source": [
        "train_df[object_cols] = train_df[object_cols].astype('category')\n",
        "test_df[object_cols] = test_df[object_cols].astype('category')"
      ]
    },
    {
      "cell_type": "code",
      "execution_count": null,
      "metadata": {
        "colab": {
          "base_uri": "https://localhost:8080/"
        },
        "id": "1w3kOfzePMOU",
        "outputId": "f374c02f-cd8b-48b2-fb77-d7e040984710"
      },
      "outputs": [
        {
          "name": "stdout",
          "output_type": "stream",
          "text": [
            "Train DF shape: (8693, 16)\n",
            "Test DF shape: (4277, 15)\n"
          ]
        }
      ],
      "source": [
        "print(f'Train DF shape: {train_df.shape}')\n",
        "print(f'Test DF shape: {test_df.shape}')"
      ]
    },
    {
      "cell_type": "markdown",
      "metadata": {
        "id": "FqAL_f6aHP9e"
      },
      "source": [
        "ใช้วิธี Ordinal Encoder ในการแปลงข้อมูลจาก nominal data ให้เป็น ordinal data "
      ]
    },
    {
      "cell_type": "code",
      "execution_count": null,
      "metadata": {
        "id": "gK8Onk7ePNdL"
      },
      "outputs": [],
      "source": [
        "from sklearn.preprocessing import OrdinalEncoder\n",
        "\n",
        "oc = OrdinalEncoder()\n",
        "\n",
        "df_for_encode = pd.concat([train_df, test_df])\n",
        "\n",
        "df_for_encode[object_cols] = df_for_encode[object_cols].astype('category')\n",
        "\n",
        "df_for_encode[object_cols] = oc.fit_transform(df_for_encode[object_cols])\n",
        "\n",
        "del train_df, test_df\n",
        "\n",
        "train_df = df_for_encode.iloc[:8693, :]\n",
        "test_df = df_for_encode.iloc[8693: , :]\n",
        "\n",
        "del df_for_encode\n",
        "\n",
        "test_df.drop('Transported', inplace=True, axis=1)"
      ]
    },
    {
      "cell_type": "code",
      "execution_count": null,
      "metadata": {
        "colab": {
          "base_uri": "https://localhost:8080/"
        },
        "id": "OsphEVbzPOzy",
        "outputId": "8a3b68a2-ce03-4e3e-a298-d8752c01b485"
      },
      "outputs": [
        {
          "name": "stdout",
          "output_type": "stream",
          "text": [
            "Train DF shape: (8693, 16)\n",
            "Test DF shape: (4277, 15)\n"
          ]
        }
      ],
      "source": [
        "print(f'Train DF shape: {train_df.shape}')\n",
        "print(f'Test DF shape: {test_df.shape}')"
      ]
    },
    {
      "cell_type": "markdown",
      "metadata": {
        "id": "DL3Ei1RkHlV3"
      },
      "source": [
        "จัดการค่า null value ด้วยการแทนด้วยค่าเฉลี่ยของแต่ละคอลัมน์ เพื่อให้ข้อมูลครบถ้วนสมบูรณ์"
      ]
    },
    {
      "cell_type": "code",
      "execution_count": null,
      "metadata": {
        "id": "LOlQ1PoxPQnv"
      },
      "outputs": [],
      "source": [
        "from sklearn.impute import SimpleImputer\n",
        "from sklearn.compose import ColumnTransformer\n",
        "\n",
        "\n",
        "ct = ColumnTransformer([(\"imp\", SimpleImputer(strategy='mean'), null_cols)])\n",
        "    \n",
        "train_df[null_cols] = ct.fit_transform(train_df[null_cols])\n",
        "test_df[null_cols] = ct.fit_transform(test_df[null_cols])"
      ]
    },
    {
      "cell_type": "code",
      "execution_count": null,
      "metadata": {
        "colab": {
          "base_uri": "https://localhost:8080/"
        },
        "id": "QY23tnvHAI5Q",
        "outputId": "137a0482-c00e-41f9-f720-b140943641e9"
      },
      "outputs": [
        {
          "data": {
            "text/plain": [
              "HomePlanet      0\n",
              "CryoSleep       0\n",
              "Destination     0\n",
              "Age             0\n",
              "VIP             0\n",
              "RoomService     0\n",
              "FoodCourt       0\n",
              "ShoppingMall    0\n",
              "Spa             0\n",
              "VRDeck          0\n",
              "Transported     0\n",
              "deck            0\n",
              "num             0\n",
              "side            0\n",
              "total_spent     0\n",
              "SumSpends       0\n",
              "dtype: int64"
            ]
          },
          "execution_count": 30,
          "metadata": {},
          "output_type": "execute_result"
        }
      ],
      "source": [
        "null_value=train_df.isnull().sum()\n",
        "null_value"
      ]
    },
    {
      "cell_type": "code",
      "execution_count": null,
      "metadata": {
        "colab": {
          "base_uri": "https://localhost:8080/",
          "height": 187
        },
        "id": "_OS4zInGAUaw",
        "outputId": "98332ce4-dc17-4fda-a159-f1ba1077ae61"
      },
      "outputs": [
        {
          "ename": "NameError",
          "evalue": "ignored",
          "output_type": "error",
          "traceback": [
            "\u001b[0;31m---------------------------------------------------------------------------\u001b[0m",
            "\u001b[0;31mNameError\u001b[0m                                 Traceback (most recent call last)",
            "\u001b[0;32m<ipython-input-33-8369bc5a8000>\u001b[0m in \u001b[0;36m<module>\u001b[0;34m\u001b[0m\n\u001b[0;32m----> 1\u001b[0;31m \u001b[0mmsno\u001b[0m\u001b[0;34m.\u001b[0m\u001b[0mmatrix\u001b[0m\u001b[0;34m(\u001b[0m\u001b[0mtrain_df\u001b[0m\u001b[0;34m)\u001b[0m\u001b[0;34m\u001b[0m\u001b[0;34m\u001b[0m\u001b[0m\n\u001b[0m\u001b[1;32m      2\u001b[0m \u001b[0mplt\u001b[0m\u001b[0;34m.\u001b[0m\u001b[0mtitle\u001b[0m\u001b[0;34m(\u001b[0m\u001b[0;34m'Missing Value Distribution in train set'\u001b[0m\u001b[0;34m,\u001b[0m \u001b[0msize\u001b[0m\u001b[0;34m=\u001b[0m\u001b[0;36m20\u001b[0m\u001b[0;34m)\u001b[0m\u001b[0;34m;\u001b[0m\u001b[0;34m\u001b[0m\u001b[0;34m\u001b[0m\u001b[0m\n",
            "\u001b[0;31mNameError\u001b[0m: name 'msno' is not defined"
          ]
        }
      ],
      "source": [
        "# msno.matrix(train_df)\n",
        "# # plt.title('Missing Value Distribution in train set', size=20);"
      ]
    },
    {
      "cell_type": "code",
      "execution_count": null,
      "metadata": {
        "id": "2TTV4smNBtvL"
      },
      "outputs": [],
      "source": [
        "# nulls = pd.DataFrame(train_df.isnull().sum().sort_values(ascending=False)[:25])\n",
        "# nulls.columns = ['Null Count']\n",
        "# nulls.index.name = 'Feature'\n",
        "# nulls"
      ]
    },
    {
      "cell_type": "markdown",
      "metadata": {
        "id": "ZqTDyUYjIDDb"
      },
      "source": [
        "แบ่งข้อมูล train และ test โดยใช้ K-fold cross validation ซึ่งเป็นวิธีการแบ่งข้อมูลให้เป็น k ส่วนเท่า ๆ กัน เพื่อสร้าง และทดสอบ Model คำนวณค่าเฉลี่ย accuracy หรือ error ก่อนที่จะนำโมเดลไปใช้ทำนายข้อมูล test set\n",
        "\n",
        "\n",
        "\n"
      ]
    },
    {
      "cell_type": "code",
      "execution_count": null,
      "metadata": {
        "id": "yl1yYxoGPRyn"
      },
      "outputs": [],
      "source": [
        "X = train_df.copy()\n",
        "y = X.pop('Transported')\n",
        "\n",
        "from sklearn.model_selection import cross_val_score, train_test_split, GridSearchCV, KFold\n",
        "x_train, x_test, y_train, y_test = train_test_split(X, y, random_state=23, test_size=0.3)\n",
        "kfold = KFold(n_splits=5, shuffle=True, random_state=10) "
      ]
    },
    {
      "cell_type": "markdown",
      "metadata": {
        "id": "vEUMIaHjJFMP"
      },
      "source": [
        "##Testing models without hyperparameter optimization\n"
      ]
    },
    {
      "cell_type": "code",
      "execution_count": null,
      "metadata": {
        "id": "Mke4NKjjPTJC"
      },
      "outputs": [],
      "source": [
        "from sklearn.ensemble import RandomForestClassifier,AdaBoostClassifier,GradientBoostingClassifier,BaggingClassifier\n",
        "from sklearn.tree import DecisionTreeClassifier\n",
        "from lightgbm import LGBMClassifier\n",
        "from xgboost import XGBClassifier\n",
        "from sklearn.metrics import accuracy_score\n",
        "from catboost import CatBoostClassifier"
      ]
    },
    {
      "cell_type": "code",
      "execution_count": null,
      "metadata": {
        "id": "-k9qTETGtTgw"
      },
      "outputs": [],
      "source": [
        "# Train-validation split\n",
        "# X_train, X_valid, y_train, y_valid = train_test_split(X,y,stratify=y,train_size=0.8,test_size=0.2,random_state=0)"
      ]
    },
    {
      "cell_type": "markdown",
      "metadata": {
        "id": "mW6k_MGlJpqn"
      },
      "source": [
        "Model selection\n",
        "เป็นขั้นตอนการคัดเลือก Model โดยทำการทดสอบเพื่อเปรียบเทียบประสิทธิภาพการทำงานของแต่ละ Model เพื่อหา Model ที่ดีที่สุดในการทำนายค่า Transported ซึ่ง Model ที่จะนำมาทดสอบมี ดังนี้\n",
        "*   CatBoost Classifier\n",
        "*   LGBM Classifier\n",
        "*   Random Forest Classifier\n",
        "*   XGB Classifier\n",
        "*   Decision Tree Classifier"
      ]
    },
    {
      "cell_type": "code",
      "execution_count": null,
      "metadata": {
        "id": "0WkE8TVoPUcX"
      },
      "outputs": [],
      "source": [
        "#Model Selection\n",
        "model_factory = [CatBoostClassifier(verbose=False), \n",
        "                 DecisionTreeClassifier(), \n",
        "                 RandomForestClassifier(n_jobs=-1), \n",
        "                 GradientBoostingClassifier(), \n",
        "                 AdaBoostClassifier(),LGBMClassifier(objective='binary'),\n",
        "                 BaggingClassifier(DecisionTreeClassifier(max_depth=7)), \n",
        "                 XGBClassifier(objective='binary:logistic')]\n",
        "# 0.8827792476705395 random 1\n",
        "\n",
        "val = []\n",
        "model_name = []\n",
        "\n",
        "for model in model_factory:\n",
        "    mf = model.fit(x_train, y_train)\n",
        "    Pred = mf.predict(x_test)\n",
        "    scores=cross_val_score(model, x_train, y_train, cv=kfold, scoring='accuracy')\n",
        "    print(model.__class__.__name__, \" : Train Accuracy: \", accuracy_score(y_test, Pred), \" : Validation Accuracy : \", np.mean(scores))\n",
        "    model_name.append(model.__class__.__name__)\n",
        "    val.append(np.mean(scores).item())"
      ]
    },
    {
      "cell_type": "code",
      "execution_count": null,
      "metadata": {
        "id": "aFV-r2LUP4G2"
      },
      "outputs": [],
      "source": [
        "fig = plt.figure(figsize = (70, 60))\n",
        "plt.bar(model_name, val)\n",
        "plt.title('Validation accuracy of model',fontsize=60)\n",
        "plt.tick_params(axis='both', which='major', labelsize=35)"
      ]
    },
    {
      "cell_type": "markdown",
      "metadata": {
        "id": "0B1gD3TR3HZy"
      },
      "source": [
        "Chart แสดงสัดส่วนจากการทดสอบความแม่นยำของ Model โดยแต่ละ Model มีค่า Validation Accuracy ดังนี้\n",
        "*   CatBoostClassifier : 0.809\n",
        "*   LGBMClassifier : 0.800\n",
        "*   RandomForestClassifier : 0.794\n",
        "*   XGBClassifier : 0.793\n",
        "*   DecisionTreeClassifier : 0.743\n",
        "\n",
        "จากการทดสอบแต่ละ Model พบว่า CatBoost Classifier มีความแม่นยำของ Model สูงที่สุด โดยมีค่า Train Accuracy อยู่ที่ 0.812 และค่า Validation Accuracy อยู่ที่ 0.809\n",
        ">CatBoost Classifier มาจาก category & boosting ซึ่งเป็นวิธี Gradient Boosting ชนิดหนึ่ง ถูกพัฒนามาเพื่อจัดการกับข้อมูล categorical data  ซึ่งช่วยเพิ่มประสิทธิภาพการทำงานของ Model และสามารถทำนายค่าได้อย่างรวดเร็ว \n",
        "\n",
        ">CatBoost มีหลักการทำงานคล้ายกับ Gradient boosting model ซึ่งเป็นการนําเอา Decision Tree มาทําการ Train ต่อกันหลาย ๆ รอบ และเรียนรู้จากความผิดพลาดของต้นไม้ก่อนหน้า โดยจะมีการให้น้ำหนักทีแตกต่างกันออกไป ถ้า Classifier ไหนที่มีการทํานายผิดบ่อย ๆ จะให้นํ้าหนักมากกว่าเพื่อให้มีการสุ่มขึ้นมาใหม่อีกครั้ง และทําการทํานายค่าไปเรื่อย ๆ\n",
        "ซึ่งจะทําให้มีความแม่นยําเพิ่มขึ้นเรื่อย ๆ ในแต่ละรอบ โดยโมเดลจะทําการหยุดก็ต่อเมื่อมีการ Train ที่ลึกเกินไปจนโมเดลไม่สามารถหารูปแบบของความผิดพลาดได้จากต้นไม้ก่อนหน้าหรือได้ผลรวมของ\n",
        "classifier ที่ดีที่สุดแล้ว\n"
      ]
    },
    {
      "cell_type": "markdown",
      "metadata": {
        "id": "gG7YKK_tK2qd"
      },
      "source": [
        "Feature selection คือ ขั้นตอนการลดขนาดหรือมิติของข้อมูล แต่ยังคงลักษณะสำคัญของข้อมูลอยู่ โดยในขั้นตอนนี้ใช้วิธี sequential backward คือ การเลือกย้อนหลังหรือลบฟีเจอร์เพื่อสร้างชุดย่อยของฟีเจอร์ในแต่ละขั้นตอน เครื่องมือนี้จะเลือกฟีเจอร์ที่ดีที่สุดในการลบตาม cross validation score จากนั้นจะได้ฟีเจอร์ที่เหมาะสมสำหรับนำไปเทรน Model ต่อได้ ดังนี้\n",
        "* CryoSleep\n",
        "* RoomService \n",
        "* Spa\n",
        "* VRDeck\n",
        "* deck\n",
        "* side\n",
        "* SumSpends\n"
      ]
    },
    {
      "cell_type": "code",
      "execution_count": null,
      "metadata": {
        "id": "2OFcNEPO-1gT"
      },
      "outputs": [],
      "source": [
        "from sklearn.feature_selection import SequentialFeatureSelector\n",
        "\n",
        "model_fs = CatBoostClassifier(verbose=False)\n",
        "sf = SequentialFeatureSelector(model_fs, scoring='accuracy', direction = 'backward' , n_jobs=-1)\n",
        "sf.fit(X,y)"
      ]
    },
    {
      "cell_type": "code",
      "execution_count": null,
      "metadata": {
        "id": "qgQ6RGfUPVzs"
      },
      "outputs": [],
      "source": [
        "#best_features_cat = list(sf.get_feature_names_out())\n",
        "best_features_cat = ['CryoSleep', 'RoomService', 'Spa', 'VRDeck', 'deck', 'side', 'SumSpends']"
      ]
    },
    {
      "cell_type": "code",
      "execution_count": null,
      "metadata": {
        "id": "eDG6Wg6Xt43l"
      },
      "outputs": [],
      "source": [
        "# # Show results\n",
        "# valid_scores"
      ]
    },
    {
      "cell_type": "markdown",
      "metadata": {
        "id": "XCBvdnx-JMsO"
      },
      "source": [
        "##Hyperparameter Optimization by using Grid Search\n",
        "* Hyperparameter คือ พารามิเตอร์ที่มีค่าที่ใช้ในการควบคุมกระบวนการเรียนรู้ เป็นค่าที่ไม่สามารถหาได้จากข้อมูล ช่วยให้โมเดลมีประสิทธิภาพมากขึ้น ซึ่งจะถูกกำหนดค่าไว้ล่วงหน้าก่อนที่จะทำการเทรนโมเดล โดย hyperparameter ที่จำเป็นของ catboost มีดังนี้\n",
        "    - learning rate คือ Hyperparameter ตัวหนึ่งที่ควบคุมว่าในหนึ่ง Step ของการเทรน เราจะปรับ Weight ของ Neural Network มากน้อยแค่ไหน ถ้า Learning Rate มีค่าน้อย Weight ของโมเดลก็จะเปลี่ยนแปลงน้อย การทำงานของโมเดลก็จะเปลี่ยนไปน้อย Loss ก็ไม่ค่อยเปลี่ยนเท่าไร ถ้า Learning Rate มีค่ามาก Weight ของโมเดลก็จะเปลี่ยนแปลงมาก การทำงานของโมเดลก็จะเปลี่ยนไปมาก Loss ก็จะเปลี่ยนแปลงมาก\n",
        "    - iteration คือ data frame สำหรับกระบวนการค้นหาไฮเปอร์พารามิเตอร์ เป็นการวนซ้ำแบบวนซ้ำ หรือขั้นตอนซ้ำๆ ของการปรับจูนบน subset ขนาดเล็ก จากนั้นทำการทดสอบกับ validation set ในการกวาดแต่ละครั้ง ส่งผลให้ตัดสินใจโดยปริยายว่าไฮเปอร์พารามิเตอร์ใดจะคงอยู่ในโค้ดและพารามิเตอร์ใดที่จะทดสอบโดยเปลี่ยนพารามิเตอร์เหล่านั้น ดังนั้นหนึ่งในตัวเลือกแรกคือจำนวนการเปลี่ยนแปลงในแต่ละครั้ง\n",
        "    - depth คือ อัลกอริธึมการเรียนรู้ของเครื่องที่สามารถทำงานการถดถอยและการจัดหมวดหมู่ได้ เพื่อให้เข้าใจถึงโครงสร้างการตัดสินใจ ให้ดูโครงสร้างที่เหมือนต้นไม้แบบกลับหัว (เหมือนของต้นไม้ครอบครัว) เราเริ่มต้นที่รากของต้นไม้ที่มีข้อมูลการฝึกของเรา ที่รูท เราแบ่งชุดข้อมูลของเราออกเป็นลีฟโหนดแยกตามเงื่อนไขบางประการ เช่น การใช้ลูป if/else\n",
        "    - l2 คือ วิธีการปรับโมเดลที่ใช้ในการวิเคราะห์ข้อมูลใดๆ วิธีนี้ดำเนินการทำให้เป็นมาตรฐาน L2 เมื่อปัญหาของ multicollinearity เกิดขึ้น กำลังสองน้อยที่สุดจะไม่เอนเอียง และความแปรปรวนมีมาก ส่งผลให้ค่าที่คาดการณ์ไว้อยู่ไกลจากค่าจริง\n",
        "\n",
        "* Hyperparameter Optimization คือ การค้นหาการรวมกันของไฮเปอร์พารามิเตอร์ที่ return โมเดลที่เหมาะสมที่สุด ซึ่งจะช่วยลดฟังก์ชันการสูญเสียที่กำหนดไว้ล่วงหน้า และเพิ่มความแม่นยำให้กับข้อมูล วิธีการค้นหา Hyperparameter มีด้วยกันทั้งสิ้น 3 วิธี ได้แก่ Manual Search, Grid Search และ Random Search ซึ่งในครั้งนี้ได้ทำการเลือกใช้ Grid Search\n",
        "* Grid Search คือ การค้นหาแบบกริด เป็นเทคนิคที่ใช้ในการหาค่า Hyperparameter ที่เข้าใจง่ายและตรงไปตรงมา ด้วยการลองใช้พารามิเตอร์ที่กำหนดไว้ล่วงหน้าทุกชุด และประเมินประสิทธิภาพหรือความแม่นยำของโมเดลแต่ละชุด จะเป็นการลองสร้างโมเดลจากค่าของ Hyperparameter ทุกชุด รูปแบบของการทำงานจะคล้ายกริด โดยค่าทั้งหมดจะอยู่ในรูปของ Matrix พารามิเตอร์แต่ละชุดจะถูกนำมาพิจารณาและสังเกตความถูกต้อง เมื่อชุดของ Hyperparameter ทั้งหมดได้รับการประเมินแล้ว โมเดลที่มีชุดพารามิเตอร์ที่ให้ความแม่นยำสูงสุดจะถือว่าดีที่สุด"
      ]
    },
    {
      "cell_type": "markdown",
      "metadata": {
        "id": "WE3G2Zy-r5vn"
      },
      "source": [
        "เริ่มจากการสร้าง list ของ hyperparameters dictionary เพื่อกำหนดค่าพารามิเตอร์และค่าที่ต้องปรับ ในการทำ Grid Search เราสามารถใช้ Library ของ Scikit-learn ที่เรียกว่า GridSearchSV() วิธีนี้จะทำการสร้างโมเดลโดยใช้ Hyperparameter ทุกชุดเพื่อหา ชุดของ Hyperparameter ที่ดีที่สุด โดย \n",
        "* Param_grid คือ hyperameter ที่ต้องการ tune\n",
        "* Scoring คือ ให้ทำการวัดค่าด้วย accuracy\n",
        "* cv คือการทำ cross  Validation\n",
        "* N-job คือ ทำให้ run แบบ parallel"
      ]
    },
    {
      "cell_type": "code",
      "execution_count": null,
      "metadata": {
        "id": "2xAroqOaPXTg"
      },
      "outputs": [],
      "source": [
        "params = {'iterations': [500,1000,1500],'depth':[2,3,7], \n",
        "          'learning_rate':[0.01,0.05,0.1], 'l2_leaf_reg': [0.05,0.01]}\n",
        "model_cat = GridSearchCV(CatBoostClassifier(verbose=False), param_grid=params, scoring='accuracy', cv=kfold, n_jobs=-1)\n",
        "model_cat.fit(X[best_features_cat],y)\n",
        "\n",
        "# cat_pred=model_cat.predict(x_test)\n",
        "# print(\"accuracy_score = \",accuracy_score(y_test.values,cat_pred))"
      ]
    },
    {
      "cell_type": "code",
      "execution_count": null,
      "metadata": {
        "id": "LwEfXsdhPcLT"
      },
      "outputs": [],
      "source": [
        "# print(model_cat.best_params_)"
      ]
    },
    {
      "cell_type": "markdown",
      "metadata": {
        "id": "QuAe4DSPLlcW"
      },
      "source": [
        "##Prediction and Evaluate Model\n",
        "โดยเราจะใช้ confusion matrix ในการในการประเมินผลลัพธ์ เนื่องจากเป็นตารางที่ใช้ในปัญหา classification เพื่อประเมินข้อผิดพลาดของโมเดล แถวจะแสดงถึงคลาสจริงที่ผลลัพธ์ควรเป็น ในขณะที่คอลัมน์แสดงถึงการคาดการณ์ที่เราทำ การใช้ตารางนี้ทำให้ง่ายต่อการดูว่าคำทำนายใดผิด\n",
        "เป็นอีกหนึ่งการประเมินโมเดลโดยการนำเอาองค์ความรู้ด้านเมทริกซ์มาประกอบกันเป็นการทำ classification evaluate โดยเมทริกซ์ตัวนี้สามารถอธิบายค่า TP, TN, FN และ FP ของคำตอบของเราได้ เพื่อนำมาเช็คว่าเราทายผิดไปเยอะแค่ไหน"
      ]
    },
    {
      "cell_type": "code",
      "execution_count": null,
      "metadata": {
        "id": "tF3BPmytPdX7"
      },
      "outputs": [],
      "source": [
        "cat_pred=model_cat.predict(x_test)\n",
        "print(\"accuracy_score = \",accuracy_score(y_test.values,cat_pred))"
      ]
    },
    {
      "cell_type": "markdown",
      "metadata": {
        "id": "5gR7Yt6ZcQaj"
      },
      "source": [
        "เรียก accuracy_score เพื่อทำการเช็คความแม่นยำของโมเดล"
      ]
    },
    {
      "cell_type": "code",
      "execution_count": null,
      "metadata": {
        "id": "ddkY3kVADMtZ"
      },
      "outputs": [],
      "source": [
        "cm = confusion_matrix(y_test.values,cat_pred)\n",
        "print(\"Confusion matrix is \\n\",cm)"
      ]
    },
    {
      "cell_type": "markdown",
      "metadata": {
        "id": "GdYXnS_kej2U"
      },
      "source": [
        "โดยจากการใช้ confusion matrix ค่าจะออกมาเป็น matrix ยังสามารถหา precision , recall และ f1_score ได้\n",
        "\n",
        "TP = 1067\n",
        "FN = 214\n",
        "FP = 134\n",
        "TN = 1193"
      ]
    },
    {
      "cell_type": "code",
      "execution_count": null,
      "metadata": {
        "id": "KIqNxCGX9nZf"
      },
      "outputs": [],
      "source": [
        "# plt.figure(figsize=(7,7))\n",
        "# plt.title(\"Confusion Matrix\")\n",
        "# sns.heatmap(cm, square=True,cmap=\"BuPu\",annot=True,fmt='d')\n",
        "# plt.xlabel('true label')\n",
        "# plt.ylabel('predicted label')"
      ]
    },
    {
      "cell_type": "code",
      "execution_count": null,
      "metadata": {
        "id": "5hN8FN-5cYVo"
      },
      "outputs": [],
      "source": [
        "plt.figure(figsize=(7,7))\n",
        "plt.title(\"Confusion Matrix\")\n",
        "sns.heatmap(cm, square=True,cmap=\"BuPu\",annot=True,fmt='d')\n",
        "plt.xlabel('predicted label')\n",
        "plt.ylabel('true label')"
      ]
    },
    {
      "cell_type": "markdown",
      "metadata": {
        "id": "pG3fm9_DdjkF"
      },
      "source": [
        "เรียก  precision, recall และ f1_score เข้าด้วยกันด้วยคำสั่งเดียวได้ด้วยคำสั่ง classification_report โดย\n",
        "* precision: ค่าความแม่นยำ เกิดจากการนำ ค่า tp มาเทียบกับ fp\n",
        "* recall: ค่าความถูกต้อง เกิดจากการนำค่า tp มาเทียบกับ fn\n",
        "* f1-score: ค่าเฉลี่ยของ Precision และ Recall"
      ]
    },
    {
      "cell_type": "code",
      "execution_count": null,
      "metadata": {
        "id": "VlYHFNHODr4x"
      },
      "outputs": [],
      "source": [
        "from sklearn.metrics import classification_report\n",
        "print(classification_report(y_test, cat_pred))"
      ]
    },
    {
      "cell_type": "markdown",
      "metadata": {
        "id": "ZUdcW4_MWfff"
      },
      "source": [
        "ต่อมาทำการ import roc_curve และ auc โดย \n",
        "* roc_curve หรือ Receiver operating characteristic curve คือ เส้นโค้งที่พล็อตกราฟระหว่างค่า Sensitivity และ 1-specificity โดย\n",
        "แกน y แทน Sensitivity และ แกน x แทน 1-specificity ที่จุดตัดต่างๆเพื่อแบ่งผลลัพธ์ของการ\n",
        "พยากรณ์ออกเป็นกลุ่มเหตุการณ์ที่สนใจและเหตุการณ์ที่ไม่ได้สนใจ เป็นตัวบอก test performance วิธีหนึ่ง ซึ่งสามารถบอกจุด cut-off ที่เหมาะสมที่สุดได้ ว่า ณ จุดไหนที่มีความแม่นยำของ test เกิดขึ้นสูงที่สุด และน่าเชื่อถือที่สุด เราจึงสามารถใช้เลือกจุดนั้นมาเป็นจุด cut-off ได้เลย\n",
        "* auc หรือ Area under the ROC curve คือ ค่าที่ถูกใช้ในการบ่งบอกความ\n",
        "ถูกต้องของการพยากรณ์พื้นที่ใต้โค้ง ROC โดยถ้าพื้นที่ใต้โค้ง ROC มีค่ามาก แสดงว่าตัวแบบนั้นมีความถูกต้องมากเช่นกัน"
      ]
    },
    {
      "cell_type": "code",
      "execution_count": null,
      "metadata": {
        "id": "ekjfKulUst36"
      },
      "outputs": [],
      "source": [
        "from sklearn.metrics import roc_curve, auc\n",
        "fpr, tpr, _ = roc_curve(y_test, cat_pred)\n",
        "roc_auc=auc(fpr,tpr)\n",
        "#Now Draw ROC using fpr , tpr\n",
        "plt.plot([0, 1], [0, 1], 'k--',label='Random')\n",
        "plt.plot(fpr,tpr,label='ROC curve (area = %0.2f)' %roc_auc)\n",
        "plt.xlabel('False positive rate')\n",
        "plt.ylabel('True positive rate')\n",
        "plt.title(\" ROC curve\")\n",
        "plt.legend(loc='best')\n",
        "plt.figure(figsize=(7,7))"
      ]
    },
    {
      "cell_type": "markdown",
      "metadata": {
        "id": "lJB817jrZTWZ"
      },
      "source": [
        "จากผลลัพธ์จะเห็นได้ว่ามีพื้นที่ใต้โค้ง roc อยู่ที่ 0.87 ซึ่งถือเป็นค่าที่มากแสดงให้เห็นถึงความถูกต้องของโมเดล"
      ]
    },
    {
      "cell_type": "markdown",
      "metadata": {
        "id": "fH5qqghJIS_1"
      },
      "source": [
        "ทำการประเมินผลลัพธ์โดยใช้ชุดข้อมูล test_df จากนั้นเก็บผลลัพธ์การประเมินลงใน DataFrame และเซฟเป็นไฟล์ CSV "
      ]
    },
    {
      "cell_type": "code",
      "execution_count": null,
      "metadata": {
        "id": "ks23NNEsPenN"
      },
      "outputs": [],
      "source": [
        "prediction = model_cat.predict(test_df)"
      ]
    },
    {
      "cell_type": "code",
      "execution_count": null,
      "metadata": {
        "id": "WOnYpjIRPf7Z"
      },
      "outputs": [],
      "source": [
        "#Prediction\n",
        "final = pd.DataFrame()\n",
        "final.index = test_df.index\n",
        "final['Transported'] = prediction\n",
        "final['Transported'].replace(0, False, inplace=True)\n",
        "final['Transported'].replace(1, True, inplace=True)\n",
        "final.to_csv('submission.csv')"
      ]
    },
    {
      "cell_type": "markdown",
      "metadata": {
        "id": "mqnUjAKMVTuu"
      },
      "source": [
        "Reference #แก้แล้ว\n",
        "\n",
        "Great Learning Team. (2022). What is Ridge Regression?. Retrieved from https://www.mygreatlearning.com/blog/what-is-ridge-regression/\n",
        "\n",
        "MISAEL C RIBEIRO. (2022, August 15). 81% - Models + Backward Feature Selection. Retrieved from https://www.kaggle.com/code/misaelcribeiro/81-models-backward-feature-selection\n",
        "\n",
        "Mr.P L. (2018). Evaluate Model นั้นสำคัญอย่างไร ? : Machine Learning 101. Retrieved from https://medium.com/mmp-li/evaluate-model-precision-recall-f1-score-machine-learning-101-89dbbada0c96\n",
        "\n",
        "PureYo's Clinical Research Academy. (2018). ROC curve คืออะไร?. Retrieved from https://www.facebook.com/pureyoacademy/posts/586982888309714/\n",
        "\n",
        "sklearn.feature_selection.SequentialFeatureSelector. (2022). Retrieved from https://scikit-learn.org/stable/modules/generated/sklearn.feature_selection.SequentialFeatureSelector.html\n",
        "\n",
        "Stacey Svetlichnaya. (2020). Hyperparameter Search with Iterative Sweeps. Retrieved from https://towardsdatascience.com/hyperparameter-search-with-iterative-sweeps-3799df1a4d45\n",
        "\n",
        "Surapong Kanoktipsatharporn. (2019). Learning Rate คืออะไร ปรับยังไงให้พอดี Epoch คืออะไร สำคัญอย่างไร กับการเทรน Machine Learning – Hyperparameter Tuning ep.1. Retrieved from https://www.bualabs.com/archives/618/learning-rate-deep-learning-how-to-hyperparameter-tuning-ep-1/\n",
        "\n",
        "ทินกร ม้าลายทอง. (2564). เพิ่มประสิทธิภาพของ Machine Learning Model ด้วย Hyperparameter Optimization. สืบค้นจาก https://bigdata.go.th/big-data-101/machine-learning-model-hyperparameter-optimization/\n",
        "\n",
        "เบญจพร เอี่ยมประโคน1 , และ ณัตติฤดี เจริญรักษ. วิธีการเปรียบเทียบพื้นที่ใต้ ้โค้ง ROC สําหรับข้อมูลชุดเดียวกัน :\n",
        "กรณีศึกษาแบบจําลองคะแนนเครดิต. สืบค้นจาก https://scholar.utcc.ac.th/bitstream/6626976254/3912/1/0072%20%E0%B9%80%E0%B8%9A%E0%B8%8D%E0%B8%88%E0%B8%9E%E0%B8%A3%20%E0%B9%80%E0%B8%AD%E0%B8%B5%E0%B9%88%E0%B8%A2%E0%B8%A1%E0%B8%9B%E0%B8%A3%E0%B8%B0%E0%B9%82%E0%B8%84%E0%B8%99.pdf\n",
        "\n",
        "สกุลกาญจน์ ทองคำ, และ นุวีย์ วิวัฒนวัฒนา, การเรียนรู้ของเครื่องเพื่อการทำนายการผิดนัดชำระของลูกหนี้บัตรเครดิต, (คณะวิทยาศาสตร์ มหาวิทยาลัยศรีนครินทรวิโรฒ, 2565), หน้า 44. \n",
        "\n",
        "อติวิชญ์ ชนินทร์โชดึก, และ เอกรัฐ รัฐกาญจน์, การจัดการความเสี่ยงในการผิ\n",
        "ดนัดชำระหนี้ส่วนบุคคลแบบออนไลน์, สืบค้นจาก https://as.nida.ac.th/wp-content/uploads/2021/11/6220412019_Ativit.pdf"
      ]
    }
  ],
  "metadata": {
    "colab": {
      "collapsed_sections": [],
      "provenance": []
    },
    "kernelspec": {
      "display_name": "Python 3",
      "name": "python3"
    },
    "language_info": {
      "name": "python"
    }
  },
  "nbformat": 4,
  "nbformat_minor": 0
}